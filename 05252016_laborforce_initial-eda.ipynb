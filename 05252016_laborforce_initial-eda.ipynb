{
 "cells": [
  {
   "cell_type": "code",
   "execution_count": 1,
   "metadata": {
    "collapsed": true
   },
   "outputs": [],
   "source": [
    "import numpy as np\n",
    "import pandas as pd\n",
    "import matplotlib.pyplot as plt\n",
    "import seaborn as sns\n",
    "%matplotlib inline"
   ]
  },
  {
   "cell_type": "code",
   "execution_count": 2,
   "metadata": {
    "collapsed": true
   },
   "outputs": [],
   "source": [
    "lf_ca = pd.read_csv(\"LabForce-CAMSACo.txt\")"
   ]
  },
  {
   "cell_type": "code",
   "execution_count": 3,
   "metadata": {
    "collapsed": false
   },
   "outputs": [
    {
     "data": {
      "text/html": [
       "<div>\n",
       "<table border=\"1\" class=\"dataframe\">\n",
       "  <thead>\n",
       "    <tr style=\"text-align: right;\">\n",
       "      <th></th>\n",
       "      <th>stfips</th>\n",
       "      <th>areatype</th>\n",
       "      <th>area</th>\n",
       "      <th>areaname</th>\n",
       "      <th>periodyear</th>\n",
       "      <th>periodtype</th>\n",
       "      <th>period</th>\n",
       "      <th>Adjusted</th>\n",
       "      <th>Preliminary</th>\n",
       "      <th>benchmark</th>\n",
       "      <th>laborforce</th>\n",
       "      <th>emplab</th>\n",
       "      <th>unemp</th>\n",
       "      <th>unemprate</th>\n",
       "    </tr>\n",
       "  </thead>\n",
       "  <tbody>\n",
       "    <tr>\n",
       "      <th>0</th>\n",
       "      <td>6</td>\n",
       "      <td>1</td>\n",
       "      <td>0</td>\n",
       "      <td>California</td>\n",
       "      <td>1990</td>\n",
       "      <td>1</td>\n",
       "      <td>0</td>\n",
       "      <td>Not adj</td>\n",
       "      <td>Not Prelim</td>\n",
       "      <td>2010</td>\n",
       "      <td>15168500</td>\n",
       "      <td>14294100</td>\n",
       "      <td>874400</td>\n",
       "      <td>5.8</td>\n",
       "    </tr>\n",
       "    <tr>\n",
       "      <th>1</th>\n",
       "      <td>6</td>\n",
       "      <td>1</td>\n",
       "      <td>0</td>\n",
       "      <td>California</td>\n",
       "      <td>1990</td>\n",
       "      <td>1</td>\n",
       "      <td>0</td>\n",
       "      <td>Not adj</td>\n",
       "      <td>Not Prelim</td>\n",
       "      <td>2014</td>\n",
       "      <td>15138400</td>\n",
       "      <td>14264200</td>\n",
       "      <td>874300</td>\n",
       "      <td>5.8</td>\n",
       "    </tr>\n",
       "    <tr>\n",
       "      <th>2</th>\n",
       "      <td>6</td>\n",
       "      <td>1</td>\n",
       "      <td>0</td>\n",
       "      <td>California</td>\n",
       "      <td>1990</td>\n",
       "      <td>3</td>\n",
       "      <td>1</td>\n",
       "      <td>Not adj</td>\n",
       "      <td>Not Prelim</td>\n",
       "      <td>2010</td>\n",
       "      <td>15092800</td>\n",
       "      <td>14244400</td>\n",
       "      <td>848500</td>\n",
       "      <td>5.6</td>\n",
       "    </tr>\n",
       "    <tr>\n",
       "      <th>3</th>\n",
       "      <td>6</td>\n",
       "      <td>1</td>\n",
       "      <td>0</td>\n",
       "      <td>California</td>\n",
       "      <td>1990</td>\n",
       "      <td>3</td>\n",
       "      <td>1</td>\n",
       "      <td>Not adj</td>\n",
       "      <td>Not Prelim</td>\n",
       "      <td>2014</td>\n",
       "      <td>14953900</td>\n",
       "      <td>14099700</td>\n",
       "      <td>854200</td>\n",
       "      <td>5.7</td>\n",
       "    </tr>\n",
       "    <tr>\n",
       "      <th>4</th>\n",
       "      <td>6</td>\n",
       "      <td>1</td>\n",
       "      <td>0</td>\n",
       "      <td>California</td>\n",
       "      <td>1990</td>\n",
       "      <td>3</td>\n",
       "      <td>1</td>\n",
       "      <td>Adj</td>\n",
       "      <td>Not Prelim</td>\n",
       "      <td>2010</td>\n",
       "      <td>14970700</td>\n",
       "      <td>14194500</td>\n",
       "      <td>776200</td>\n",
       "      <td>5.2</td>\n",
       "    </tr>\n",
       "  </tbody>\n",
       "</table>\n",
       "</div>"
      ],
      "text/plain": [
       "   stfips  areatype  area    areaname  periodyear  periodtype  period  \\\n",
       "0       6         1     0  California        1990           1       0   \n",
       "1       6         1     0  California        1990           1       0   \n",
       "2       6         1     0  California        1990           3       1   \n",
       "3       6         1     0  California        1990           3       1   \n",
       "4       6         1     0  California        1990           3       1   \n",
       "\n",
       "  Adjusted Preliminary  benchmark  laborforce    emplab   unemp  unemprate  \n",
       "0  Not adj  Not Prelim       2010    15168500  14294100  874400        5.8  \n",
       "1  Not adj  Not Prelim       2014    15138400  14264200  874300        5.8  \n",
       "2  Not adj  Not Prelim       2010    15092800  14244400  848500        5.6  \n",
       "3  Not adj  Not Prelim       2014    14953900  14099700  854200        5.7  \n",
       "4      Adj  Not Prelim       2010    14970700  14194500  776200        5.2  "
      ]
     },
     "execution_count": 3,
     "metadata": {},
     "output_type": "execute_result"
    }
   ],
   "source": [
    "lf_ca.head()"
   ]
  },
  {
   "cell_type": "code",
   "execution_count": 4,
   "metadata": {
    "collapsed": false
   },
   "outputs": [
    {
     "data": {
      "text/plain": [
       "array([    0,     1,     3,     5,     7,     9,    11,    13,    15,\n",
       "          17,    19,    21,    23,    25,    27,    29,    31,    33,\n",
       "          35,    37,    39,    41,    43,    45,    47,    49,    51,\n",
       "          53,    55,    57,    59,    61,    63,    65,    67,    69,\n",
       "          71,    73,    75,    77,    79,    81,    83,    85,    87,\n",
       "          89,    91,    93,    95,    97,    99,   101,   103,   105,\n",
       "         107,   109,   111,   113,   115, 11244, 12540, 17020, 20940,\n",
       "       23420, 25260, 31084, 31460, 32900, 33700, 34900, 36084, 37100,\n",
       "       39820, 40140, 40900, 41500, 41740, 41884, 41940, 42020, 42034,\n",
       "       42100, 42200, 42220, 44700, 46700, 47300, 49700])"
      ]
     },
     "execution_count": 4,
     "metadata": {},
     "output_type": "execute_result"
    }
   ],
   "source": [
    "lf_ca['area'].unique()"
   ]
  },
  {
   "cell_type": "code",
   "execution_count": 5,
   "metadata": {
    "collapsed": false
   },
   "outputs": [
    {
     "data": {
      "text/plain": [
       "Not adj    52513\n",
       "Adj          984\n",
       "Name: Adjusted, dtype: int64"
      ]
     },
     "execution_count": 5,
     "metadata": {},
     "output_type": "execute_result"
    }
   ],
   "source": [
    "lf_ca['Adjusted'].value_counts()"
   ]
  },
  {
   "cell_type": "code",
   "execution_count": 6,
   "metadata": {
    "collapsed": false
   },
   "outputs": [
    {
     "data": {
      "text/plain": [
       "Not Prelim    53406\n",
       "Prelim           91\n",
       "Name: Preliminary, dtype: int64"
      ]
     },
     "execution_count": 6,
     "metadata": {},
     "output_type": "execute_result"
    }
   ],
   "source": [
    "lf_ca['Preliminary'].value_counts()"
   ]
  },
  {
   "cell_type": "code",
   "execution_count": 26,
   "metadata": {
    "collapsed": false
   },
   "outputs": [],
   "source": [
    "fast_occ = pd.read_excel(\"cal$occfastest.xlsx\", header = [2])"
   ]
  },
  {
   "cell_type": "code",
   "execution_count": 42,
   "metadata": {
    "collapsed": false
   },
   "outputs": [
    {
     "data": {
      "text/plain": [
       "0                             SOC Code*\n",
       "1                    Occupational Title\n",
       "2           Estimated Employment 2012**\n",
       "3             Projected Employment 2022\n",
       "4              Percent Change 2012-2022\n",
       "5         Annual Average Percent Change\n",
       "6        2014 First Quarter  Wages [1] \n",
       "7                                   NaN\n",
       "8     Education and Training Levels [3]\n",
       "9                                   NaN\n",
       "10                                  NaN\n",
       "11                                  NaN\n",
       "12                                  NaN\n",
       "13                                  NaN\n",
       "14                                  NaN\n",
       "dtype: object"
      ]
     },
     "execution_count": 42,
     "metadata": {},
     "output_type": "execute_result"
    }
   ],
   "source": [
    "names = pd.Series(np.ravel(fast_occ[0:1].values))\n",
    "names"
   ]
  },
  {
   "cell_type": "code",
   "execution_count": 56,
   "metadata": {
    "collapsed": false
   },
   "outputs": [],
   "source": [
    "names2 = pd.Series(np.ravel(fast_occ[1:2].values)[7:11])"
   ]
  },
  {
   "cell_type": "code",
   "execution_count": 71,
   "metadata": {
    "collapsed": false
   },
   "outputs": [
    {
     "data": {
      "text/plain": [
       "Index(['Unnamed: 11', 'Unnamed: 12', 'Unnamed: 13', 'Unnamed: 14'], dtype='object')"
      ]
     },
     "execution_count": 71,
     "metadata": {},
     "output_type": "execute_result"
    }
   ],
   "source": [
    "fast_occ.columns[11:]"
   ]
  },
  {
   "cell_type": "code",
   "execution_count": 74,
   "metadata": {
    "collapsed": false
   },
   "outputs": [],
   "source": [
    "fast_occ.drop(fast_occ.columns[11:,], axis=1, inplace=True)"
   ]
  },
  {
   "cell_type": "code",
   "execution_count": 75,
   "metadata": {
    "collapsed": false
   },
   "outputs": [],
   "source": [
    "fast_occ.columns = pd.concat([names[0:7], names2], axis=0)"
   ]
  },
  {
   "cell_type": "code",
   "execution_count": 80,
   "metadata": {
    "collapsed": false
   },
   "outputs": [],
   "source": [
    "fast_occ.drop([0,1], axis=0, inplace=True)"
   ]
  },
  {
   "cell_type": "code",
   "execution_count": 81,
   "metadata": {
    "collapsed": false
   },
   "outputs": [
    {
     "data": {
      "text/html": [
       "<div>\n",
       "<table border=\"1\" class=\"dataframe\">\n",
       "  <thead>\n",
       "    <tr style=\"text-align: right;\">\n",
       "      <th></th>\n",
       "      <th>SOC Code*</th>\n",
       "      <th>Occupational Title</th>\n",
       "      <th>Estimated Employment 2012**</th>\n",
       "      <th>Projected Employment 2022</th>\n",
       "      <th>Percent Change 2012-2022</th>\n",
       "      <th>Annual Average Percent Change</th>\n",
       "      <th>2014 First Quarter  Wages [1]</th>\n",
       "      <th>Median Annual</th>\n",
       "      <th>Entry Level Education</th>\n",
       "      <th>Work Experience</th>\n",
       "      <th>On-the-Job Training</th>\n",
       "    </tr>\n",
       "  </thead>\n",
       "  <tbody>\n",
       "    <tr>\n",
       "      <th>2</th>\n",
       "      <td>47-2021</td>\n",
       "      <td>Brickmasons and Blockmasons</td>\n",
       "      <td>5100</td>\n",
       "      <td>8000</td>\n",
       "      <td>0.568627</td>\n",
       "      <td>0.0568627</td>\n",
       "      <td>31.21</td>\n",
       "      <td>64916</td>\n",
       "      <td>7</td>\n",
       "      <td>None</td>\n",
       "      <td>APP</td>\n",
       "    </tr>\n",
       "    <tr>\n",
       "      <th>3</th>\n",
       "      <td>39-9021</td>\n",
       "      <td>Personal Care Aides</td>\n",
       "      <td>386900</td>\n",
       "      <td>587200</td>\n",
       "      <td>0.517705</td>\n",
       "      <td>0.0517705</td>\n",
       "      <td>10.33</td>\n",
       "      <td>21473</td>\n",
       "      <td>8</td>\n",
       "      <td>None</td>\n",
       "      <td>ST OJT</td>\n",
       "    </tr>\n",
       "    <tr>\n",
       "      <th>4</th>\n",
       "      <td>17-2031</td>\n",
       "      <td>Biomedical Engineers</td>\n",
       "      <td>5400</td>\n",
       "      <td>7700</td>\n",
       "      <td>0.425926</td>\n",
       "      <td>0.0425926</td>\n",
       "      <td>48.9</td>\n",
       "      <td>101708</td>\n",
       "      <td>3</td>\n",
       "      <td>None</td>\n",
       "      <td>None</td>\n",
       "    </tr>\n",
       "    <tr>\n",
       "      <th>5</th>\n",
       "      <td>39-5094</td>\n",
       "      <td>Skincare Specialists</td>\n",
       "      <td>5100</td>\n",
       "      <td>7200</td>\n",
       "      <td>0.411765</td>\n",
       "      <td>0.0411765</td>\n",
       "      <td>15.79</td>\n",
       "      <td>32849</td>\n",
       "      <td>5</td>\n",
       "      <td>None</td>\n",
       "      <td>None</td>\n",
       "    </tr>\n",
       "    <tr>\n",
       "      <th>6</th>\n",
       "      <td>15-1122</td>\n",
       "      <td>Information Security Analysts</td>\n",
       "      <td>8200</td>\n",
       "      <td>11500</td>\n",
       "      <td>0.402439</td>\n",
       "      <td>0.0402439</td>\n",
       "      <td>49.13</td>\n",
       "      <td>102183</td>\n",
       "      <td>3</td>\n",
       "      <td>&lt;5 years</td>\n",
       "      <td>None</td>\n",
       "    </tr>\n",
       "  </tbody>\n",
       "</table>\n",
       "</div>"
      ],
      "text/plain": [
       "  SOC Code*             Occupational Title Estimated Employment 2012**  \\\n",
       "2   47-2021    Brickmasons and Blockmasons                        5100   \n",
       "3   39-9021            Personal Care Aides                      386900   \n",
       "4   17-2031           Biomedical Engineers                        5400   \n",
       "5   39-5094           Skincare Specialists                        5100   \n",
       "6   15-1122  Information Security Analysts                        8200   \n",
       "\n",
       "  Projected Employment 2022 Percent Change 2012-2022  \\\n",
       "2                      8000                 0.568627   \n",
       "3                    587200                 0.517705   \n",
       "4                      7700                 0.425926   \n",
       "5                      7200                 0.411765   \n",
       "6                     11500                 0.402439   \n",
       "\n",
       "  Annual Average Percent Change 2014 First Quarter  Wages [1]  Median Annual  \\\n",
       "2                     0.0568627                          31.21         64916   \n",
       "3                     0.0517705                          10.33         21473   \n",
       "4                     0.0425926                           48.9        101708   \n",
       "5                     0.0411765                          15.79         32849   \n",
       "6                     0.0402439                          49.13        102183   \n",
       "\n",
       "  Entry Level Education Work Experience On-the-Job Training  \n",
       "2                     7            None                 APP  \n",
       "3                     8            None              ST OJT  \n",
       "4                     3            None                None  \n",
       "5                     5            None                None  \n",
       "6                     3        <5 years                None  "
      ]
     },
     "execution_count": 81,
     "metadata": {},
     "output_type": "execute_result"
    }
   ],
   "source": [
    "fast_occ.head()"
   ]
  },
  {
   "cell_type": "code",
   "execution_count": null,
   "metadata": {
    "collapsed": true
   },
   "outputs": [],
   "source": []
  }
 ],
 "metadata": {
  "kernelspec": {
   "display_name": "Python 3",
   "language": "python",
   "name": "python3"
  },
  "language_info": {
   "codemirror_mode": {
    "name": "ipython",
    "version": 3
   },
   "file_extension": ".py",
   "mimetype": "text/x-python",
   "name": "python",
   "nbconvert_exporter": "python",
   "pygments_lexer": "ipython3",
   "version": "3.5.1"
  }
 },
 "nbformat": 4,
 "nbformat_minor": 0
}
