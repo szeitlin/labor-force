{
 "cells": [
  {
   "cell_type": "code",
   "execution_count": 1,
   "metadata": {
    "collapsed": true
   },
   "outputs": [],
   "source": [
    "import numpy as np\n",
    "import pandas as pd\n",
    "import matplotlib\n",
    "import matplotlib.pyplot as plt\n",
    "import seaborn as sns\n",
    "import pylab\n",
    "%matplotlib inline"
   ]
  },
  {
   "cell_type": "code",
   "execution_count": 2,
   "metadata": {
    "collapsed": true
   },
   "outputs": [],
   "source": [
    "lf_ca = pd.read_csv(\"LabForce-CAMSACo.txt\")"
   ]
  },
  {
   "cell_type": "code",
   "execution_count": 3,
   "metadata": {
    "collapsed": false
   },
   "outputs": [
    {
     "data": {
      "text/html": [
       "<div>\n",
       "<table border=\"1\" class=\"dataframe\">\n",
       "  <thead>\n",
       "    <tr style=\"text-align: right;\">\n",
       "      <th></th>\n",
       "      <th>stfips</th>\n",
       "      <th>areatype</th>\n",
       "      <th>area</th>\n",
       "      <th>areaname</th>\n",
       "      <th>periodyear</th>\n",
       "      <th>periodtype</th>\n",
       "      <th>period</th>\n",
       "      <th>Adjusted</th>\n",
       "      <th>Preliminary</th>\n",
       "      <th>benchmark</th>\n",
       "      <th>laborforce</th>\n",
       "      <th>emplab</th>\n",
       "      <th>unemp</th>\n",
       "      <th>unemprate</th>\n",
       "    </tr>\n",
       "  </thead>\n",
       "  <tbody>\n",
       "    <tr>\n",
       "      <th>0</th>\n",
       "      <td>6</td>\n",
       "      <td>1</td>\n",
       "      <td>0</td>\n",
       "      <td>California</td>\n",
       "      <td>1990</td>\n",
       "      <td>1</td>\n",
       "      <td>0</td>\n",
       "      <td>Not adj</td>\n",
       "      <td>Not Prelim</td>\n",
       "      <td>2010</td>\n",
       "      <td>15168500</td>\n",
       "      <td>14294100</td>\n",
       "      <td>874400</td>\n",
       "      <td>5.8</td>\n",
       "    </tr>\n",
       "    <tr>\n",
       "      <th>1</th>\n",
       "      <td>6</td>\n",
       "      <td>1</td>\n",
       "      <td>0</td>\n",
       "      <td>California</td>\n",
       "      <td>1990</td>\n",
       "      <td>1</td>\n",
       "      <td>0</td>\n",
       "      <td>Not adj</td>\n",
       "      <td>Not Prelim</td>\n",
       "      <td>2014</td>\n",
       "      <td>15138400</td>\n",
       "      <td>14264200</td>\n",
       "      <td>874300</td>\n",
       "      <td>5.8</td>\n",
       "    </tr>\n",
       "    <tr>\n",
       "      <th>2</th>\n",
       "      <td>6</td>\n",
       "      <td>1</td>\n",
       "      <td>0</td>\n",
       "      <td>California</td>\n",
       "      <td>1990</td>\n",
       "      <td>3</td>\n",
       "      <td>1</td>\n",
       "      <td>Not adj</td>\n",
       "      <td>Not Prelim</td>\n",
       "      <td>2010</td>\n",
       "      <td>15092800</td>\n",
       "      <td>14244400</td>\n",
       "      <td>848500</td>\n",
       "      <td>5.6</td>\n",
       "    </tr>\n",
       "    <tr>\n",
       "      <th>3</th>\n",
       "      <td>6</td>\n",
       "      <td>1</td>\n",
       "      <td>0</td>\n",
       "      <td>California</td>\n",
       "      <td>1990</td>\n",
       "      <td>3</td>\n",
       "      <td>1</td>\n",
       "      <td>Not adj</td>\n",
       "      <td>Not Prelim</td>\n",
       "      <td>2014</td>\n",
       "      <td>14953900</td>\n",
       "      <td>14099700</td>\n",
       "      <td>854200</td>\n",
       "      <td>5.7</td>\n",
       "    </tr>\n",
       "    <tr>\n",
       "      <th>4</th>\n",
       "      <td>6</td>\n",
       "      <td>1</td>\n",
       "      <td>0</td>\n",
       "      <td>California</td>\n",
       "      <td>1990</td>\n",
       "      <td>3</td>\n",
       "      <td>1</td>\n",
       "      <td>Adj</td>\n",
       "      <td>Not Prelim</td>\n",
       "      <td>2010</td>\n",
       "      <td>14970700</td>\n",
       "      <td>14194500</td>\n",
       "      <td>776200</td>\n",
       "      <td>5.2</td>\n",
       "    </tr>\n",
       "  </tbody>\n",
       "</table>\n",
       "</div>"
      ],
      "text/plain": [
       "   stfips  areatype  area    areaname  periodyear  periodtype  period  \\\n",
       "0       6         1     0  California        1990           1       0   \n",
       "1       6         1     0  California        1990           1       0   \n",
       "2       6         1     0  California        1990           3       1   \n",
       "3       6         1     0  California        1990           3       1   \n",
       "4       6         1     0  California        1990           3       1   \n",
       "\n",
       "  Adjusted Preliminary  benchmark  laborforce    emplab   unemp  unemprate  \n",
       "0  Not adj  Not Prelim       2010    15168500  14294100  874400        5.8  \n",
       "1  Not adj  Not Prelim       2014    15138400  14264200  874300        5.8  \n",
       "2  Not adj  Not Prelim       2010    15092800  14244400  848500        5.6  \n",
       "3  Not adj  Not Prelim       2014    14953900  14099700  854200        5.7  \n",
       "4      Adj  Not Prelim       2010    14970700  14194500  776200        5.2  "
      ]
     },
     "execution_count": 3,
     "metadata": {},
     "output_type": "execute_result"
    }
   ],
   "source": [
    "lf_ca.head()"
   ]
  },
  {
   "cell_type": "code",
   "execution_count": 4,
   "metadata": {
    "collapsed": false
   },
   "outputs": [
    {
     "data": {
      "text/plain": [
       "array([    0,     1,     3,     5,     7,     9,    11,    13,    15,\n",
       "          17,    19,    21,    23,    25,    27,    29,    31,    33,\n",
       "          35,    37,    39,    41,    43,    45,    47,    49,    51,\n",
       "          53,    55,    57,    59,    61,    63,    65,    67,    69,\n",
       "          71,    73,    75,    77,    79,    81,    83,    85,    87,\n",
       "          89,    91,    93,    95,    97,    99,   101,   103,   105,\n",
       "         107,   109,   111,   113,   115, 11244, 12540, 17020, 20940,\n",
       "       23420, 25260, 31084, 31460, 32900, 33700, 34900, 36084, 37100,\n",
       "       39820, 40140, 40900, 41500, 41740, 41884, 41940, 42020, 42034,\n",
       "       42100, 42200, 42220, 44700, 46700, 47300, 49700])"
      ]
     },
     "execution_count": 4,
     "metadata": {},
     "output_type": "execute_result"
    }
   ],
   "source": [
    "lf_ca['area'].unique()"
   ]
  },
  {
   "cell_type": "code",
   "execution_count": 5,
   "metadata": {
    "collapsed": false
   },
   "outputs": [
    {
     "data": {
      "text/plain": [
       "Not adj    52513\n",
       "Adj          984\n",
       "Name: Adjusted, dtype: int64"
      ]
     },
     "execution_count": 5,
     "metadata": {},
     "output_type": "execute_result"
    }
   ],
   "source": [
    "lf_ca['Adjusted'].value_counts()"
   ]
  },
  {
   "cell_type": "code",
   "execution_count": 6,
   "metadata": {
    "collapsed": false
   },
   "outputs": [
    {
     "data": {
      "text/plain": [
       "Not Prelim    53406\n",
       "Prelim           91\n",
       "Name: Preliminary, dtype: int64"
      ]
     },
     "execution_count": 6,
     "metadata": {},
     "output_type": "execute_result"
    }
   ],
   "source": [
    "lf_ca['Preliminary'].value_counts()"
   ]
  },
  {
   "cell_type": "code",
   "execution_count": 7,
   "metadata": {
    "collapsed": false
   },
   "outputs": [],
   "source": [
    "fast_occ = pd.read_excel(\"cal$occfastest.xlsx\", header = [2])"
   ]
  },
  {
   "cell_type": "code",
   "execution_count": 8,
   "metadata": {
    "collapsed": false
   },
   "outputs": [
    {
     "data": {
      "text/plain": [
       "0                             SOC Code*\n",
       "1                    Occupational Title\n",
       "2           Estimated Employment 2012**\n",
       "3             Projected Employment 2022\n",
       "4              Percent Change 2012-2022\n",
       "5         Annual Average Percent Change\n",
       "6        2014 First Quarter  Wages [1] \n",
       "7                                   NaN\n",
       "8     Education and Training Levels [3]\n",
       "9                                   NaN\n",
       "10                                  NaN\n",
       "11                                  NaN\n",
       "12                                  NaN\n",
       "13                                  NaN\n",
       "14                                  NaN\n",
       "dtype: object"
      ]
     },
     "execution_count": 8,
     "metadata": {},
     "output_type": "execute_result"
    }
   ],
   "source": [
    "names = pd.Series(np.ravel(fast_occ[0:1].values))\n",
    "names"
   ]
  },
  {
   "cell_type": "code",
   "execution_count": 9,
   "metadata": {
    "collapsed": false
   },
   "outputs": [],
   "source": [
    "names2 = pd.Series(np.ravel(fast_occ[1:2].values)[7:11])"
   ]
  },
  {
   "cell_type": "code",
   "execution_count": 10,
   "metadata": {
    "collapsed": false
   },
   "outputs": [
    {
     "data": {
      "text/plain": [
       "Index(['Unnamed: 11', 'Unnamed: 12', 'Unnamed: 13', 'Unnamed: 14'], dtype='object')"
      ]
     },
     "execution_count": 10,
     "metadata": {},
     "output_type": "execute_result"
    }
   ],
   "source": [
    "fast_occ.columns[11:]"
   ]
  },
  {
   "cell_type": "code",
   "execution_count": 11,
   "metadata": {
    "collapsed": false
   },
   "outputs": [],
   "source": [
    "fast_occ.drop(fast_occ.columns[11:,], axis=1, inplace=True)"
   ]
  },
  {
   "cell_type": "code",
   "execution_count": 12,
   "metadata": {
    "collapsed": false
   },
   "outputs": [],
   "source": [
    "fast_occ.columns = pd.concat([names[0:7], names2], axis=0)"
   ]
  },
  {
   "cell_type": "code",
   "execution_count": 13,
   "metadata": {
    "collapsed": false
   },
   "outputs": [],
   "source": [
    "fast_occ.drop([0,1], axis=0, inplace=True)"
   ]
  },
  {
   "cell_type": "code",
   "execution_count": 14,
   "metadata": {
    "collapsed": false
   },
   "outputs": [
    {
     "data": {
      "text/html": [
       "<div>\n",
       "<table border=\"1\" class=\"dataframe\">\n",
       "  <thead>\n",
       "    <tr style=\"text-align: right;\">\n",
       "      <th></th>\n",
       "      <th>SOC Code*</th>\n",
       "      <th>Occupational Title</th>\n",
       "      <th>Estimated Employment 2012**</th>\n",
       "      <th>Projected Employment 2022</th>\n",
       "      <th>Percent Change 2012-2022</th>\n",
       "      <th>Annual Average Percent Change</th>\n",
       "      <th>2014 First Quarter  Wages [1]</th>\n",
       "      <th>Median Annual</th>\n",
       "      <th>Entry Level Education</th>\n",
       "      <th>Work Experience</th>\n",
       "      <th>On-the-Job Training</th>\n",
       "    </tr>\n",
       "  </thead>\n",
       "  <tbody>\n",
       "    <tr>\n",
       "      <th>2</th>\n",
       "      <td>47-2021</td>\n",
       "      <td>Brickmasons and Blockmasons</td>\n",
       "      <td>5100</td>\n",
       "      <td>8000</td>\n",
       "      <td>0.568627</td>\n",
       "      <td>0.0568627</td>\n",
       "      <td>31.21</td>\n",
       "      <td>64916</td>\n",
       "      <td>7</td>\n",
       "      <td>None</td>\n",
       "      <td>APP</td>\n",
       "    </tr>\n",
       "    <tr>\n",
       "      <th>3</th>\n",
       "      <td>39-9021</td>\n",
       "      <td>Personal Care Aides</td>\n",
       "      <td>386900</td>\n",
       "      <td>587200</td>\n",
       "      <td>0.517705</td>\n",
       "      <td>0.0517705</td>\n",
       "      <td>10.33</td>\n",
       "      <td>21473</td>\n",
       "      <td>8</td>\n",
       "      <td>None</td>\n",
       "      <td>ST OJT</td>\n",
       "    </tr>\n",
       "    <tr>\n",
       "      <th>4</th>\n",
       "      <td>17-2031</td>\n",
       "      <td>Biomedical Engineers</td>\n",
       "      <td>5400</td>\n",
       "      <td>7700</td>\n",
       "      <td>0.425926</td>\n",
       "      <td>0.0425926</td>\n",
       "      <td>48.9</td>\n",
       "      <td>101708</td>\n",
       "      <td>3</td>\n",
       "      <td>None</td>\n",
       "      <td>None</td>\n",
       "    </tr>\n",
       "    <tr>\n",
       "      <th>5</th>\n",
       "      <td>39-5094</td>\n",
       "      <td>Skincare Specialists</td>\n",
       "      <td>5100</td>\n",
       "      <td>7200</td>\n",
       "      <td>0.411765</td>\n",
       "      <td>0.0411765</td>\n",
       "      <td>15.79</td>\n",
       "      <td>32849</td>\n",
       "      <td>5</td>\n",
       "      <td>None</td>\n",
       "      <td>None</td>\n",
       "    </tr>\n",
       "    <tr>\n",
       "      <th>6</th>\n",
       "      <td>15-1122</td>\n",
       "      <td>Information Security Analysts</td>\n",
       "      <td>8200</td>\n",
       "      <td>11500</td>\n",
       "      <td>0.402439</td>\n",
       "      <td>0.0402439</td>\n",
       "      <td>49.13</td>\n",
       "      <td>102183</td>\n",
       "      <td>3</td>\n",
       "      <td>&lt;5 years</td>\n",
       "      <td>None</td>\n",
       "    </tr>\n",
       "  </tbody>\n",
       "</table>\n",
       "</div>"
      ],
      "text/plain": [
       "  SOC Code*             Occupational Title Estimated Employment 2012**  \\\n",
       "2   47-2021    Brickmasons and Blockmasons                        5100   \n",
       "3   39-9021            Personal Care Aides                      386900   \n",
       "4   17-2031           Biomedical Engineers                        5400   \n",
       "5   39-5094           Skincare Specialists                        5100   \n",
       "6   15-1122  Information Security Analysts                        8200   \n",
       "\n",
       "  Projected Employment 2022 Percent Change 2012-2022  \\\n",
       "2                      8000                 0.568627   \n",
       "3                    587200                 0.517705   \n",
       "4                      7700                 0.425926   \n",
       "5                      7200                 0.411765   \n",
       "6                     11500                 0.402439   \n",
       "\n",
       "  Annual Average Percent Change 2014 First Quarter  Wages [1]  Median Annual  \\\n",
       "2                     0.0568627                          31.21         64916   \n",
       "3                     0.0517705                          10.33         21473   \n",
       "4                     0.0425926                           48.9        101708   \n",
       "5                     0.0411765                          15.79         32849   \n",
       "6                     0.0402439                          49.13        102183   \n",
       "\n",
       "  Entry Level Education Work Experience On-the-Job Training  \n",
       "2                     7            None                 APP  \n",
       "3                     8            None              ST OJT  \n",
       "4                     3            None                None  \n",
       "5                     5            None                None  \n",
       "6                     3        <5 years                None  "
      ]
     },
     "execution_count": 14,
     "metadata": {},
     "output_type": "execute_result"
    }
   ],
   "source": [
    "fast_occ.head()"
   ]
  },
  {
   "cell_type": "code",
   "execution_count": 15,
   "metadata": {
    "collapsed": false
   },
   "outputs": [
    {
     "data": {
      "text/plain": [
       "array(['None', '<5 years', '≥5 years', nan], dtype=object)"
      ]
     },
     "execution_count": 15,
     "metadata": {},
     "output_type": "execute_result"
    }
   ],
   "source": [
    "fast_occ['Work Experience'].unique()"
   ]
  },
  {
   "cell_type": "code",
   "execution_count": 16,
   "metadata": {
    "collapsed": false
   },
   "outputs": [],
   "source": [
    "encode = dict(zip(fast_occ['Work Experience'].unique(), [0, 1, 2]))\n",
    "fast_occ['exp'] = fast_occ['Work Experience'].apply(encode.get)"
   ]
  },
  {
   "cell_type": "code",
   "execution_count": 17,
   "metadata": {
    "collapsed": false
   },
   "outputs": [
    {
     "data": {
      "text/plain": [
       "0.0    43\n",
       "1.0     6\n",
       "2.0     1\n",
       "Name: exp, dtype: int64"
      ]
     },
     "execution_count": 17,
     "metadata": {},
     "output_type": "execute_result"
    }
   ],
   "source": [
    "fast_occ['exp'].value_counts()"
   ]
  },
  {
   "cell_type": "code",
   "execution_count": 18,
   "metadata": {
    "collapsed": false
   },
   "outputs": [],
   "source": [
    "fast_occ.dropna(inplace=True)"
   ]
  },
  {
   "cell_type": "code",
   "execution_count": 19,
   "metadata": {
    "collapsed": false
   },
   "outputs": [
    {
     "data": {
      "text/plain": [
       "array([7, 8, 3, 5, 1, 2, 4, 6], dtype=object)"
      ]
     },
     "execution_count": 19,
     "metadata": {},
     "output_type": "execute_result"
    }
   ],
   "source": [
    "fast_occ['Entry Level Education'].unique()"
   ]
  },
  {
   "cell_type": "code",
   "execution_count": 20,
   "metadata": {
    "collapsed": true
   },
   "outputs": [],
   "source": [
    "from sklearn.linear_model import LinearRegression\n",
    "from sklearn.cross_validation import train_test_split"
   ]
  },
  {
   "cell_type": "code",
   "execution_count": 21,
   "metadata": {
    "collapsed": true
   },
   "outputs": [],
   "source": [
    "sk_lr = LinearRegression()"
   ]
  },
  {
   "cell_type": "code",
   "execution_count": 22,
   "metadata": {
    "collapsed": false
   },
   "outputs": [],
   "source": [
    "X = fast_occ[['Entry Level Education', 'exp']]\n",
    "y = np.reshape(fast_occ['Median Annual'], (-1,1))"
   ]
  },
  {
   "cell_type": "code",
   "execution_count": 23,
   "metadata": {
    "collapsed": false
   },
   "outputs": [
    {
     "data": {
      "text/plain": [
       "(50, 50)"
      ]
     },
     "execution_count": 23,
     "metadata": {},
     "output_type": "execute_result"
    }
   ],
   "source": [
    "len(X), len(y)"
   ]
  },
  {
   "cell_type": "code",
   "execution_count": 24,
   "metadata": {
    "collapsed": false
   },
   "outputs": [],
   "source": [
    "#fast_occ.info()"
   ]
  },
  {
   "cell_type": "code",
   "execution_count": 25,
   "metadata": {
    "collapsed": false
   },
   "outputs": [],
   "source": [
    "X_train, X_test, y_train, y_test = train_test_split(\n",
    "...     X, y, test_size=0.33, random_state=42)"
   ]
  },
  {
   "cell_type": "code",
   "execution_count": 26,
   "metadata": {
    "collapsed": false
   },
   "outputs": [
    {
     "data": {
      "text/plain": [
       "LinearRegression(copy_X=True, fit_intercept=True, n_jobs=1, normalize=False)"
      ]
     },
     "execution_count": 26,
     "metadata": {},
     "output_type": "execute_result"
    }
   ],
   "source": [
    "sk_lr.fit(X_train, y_train)"
   ]
  },
  {
   "cell_type": "code",
   "execution_count": 27,
   "metadata": {
    "collapsed": false
   },
   "outputs": [
    {
     "data": {
      "text/plain": [
       "array([[ 98799.53540929],\n",
       "       [ 35191.9001708 ],\n",
       "       [ 91811.8857645 ],\n",
       "       [ 43280.46954133],\n",
       "       [ 83723.31639397],\n",
       "       [ 75634.74702344],\n",
       "       [ 75634.74702344],\n",
       "       [ 75634.74702344],\n",
       "       [ 67546.17765291],\n",
       "       [ 75634.74702344],\n",
       "       [ 75634.74702344],\n",
       "       [ 82622.39666823],\n",
       "       [ 35191.9001708 ],\n",
       "       [ 35191.9001708 ],\n",
       "       [ 59457.60828238],\n",
       "       [ 35191.9001708 ],\n",
       "       [ 51369.03891185]])"
      ]
     },
     "execution_count": 27,
     "metadata": {},
     "output_type": "execute_result"
    }
   ],
   "source": [
    "sk_lr.predict(X_test)"
   ]
  },
  {
   "cell_type": "code",
   "execution_count": 28,
   "metadata": {
    "collapsed": false
   },
   "outputs": [
    {
     "data": {
      "text/plain": [
       "0.54036213129141186"
      ]
     },
     "execution_count": 28,
     "metadata": {},
     "output_type": "execute_result"
    }
   ],
   "source": [
    "sk_lr.score(X_test, y_test)"
   ]
  },
  {
   "cell_type": "code",
   "execution_count": 29,
   "metadata": {
    "collapsed": false
   },
   "outputs": [
    {
     "data": {
      "text/plain": [
       "[<matplotlib.lines.Line2D at 0x110d5fe10>,\n",
       " <matplotlib.lines.Line2D at 0x110d6b0b8>]"
      ]
     },
     "execution_count": 29,
     "metadata": {},
     "output_type": "execute_result"
    },
    {
     "data": {
      "image/png": "[encoded data removed]",
      "text/plain": [
       "<matplotlib.figure.Figure at 0x110716240>"
      ]
     },
     "metadata": {},
     "output_type": "display_data"
    }
   ],
   "source": [
    "plt.plot(X_train, y_train, '.')"
   ]
  },
  {
   "cell_type": "code",
   "execution_count": 30,
   "metadata": {
    "collapsed": false
   },
   "outputs": [
    {
     "data": {
      "text/plain": [
       "array([[-8088.56937053,  6987.64964479]])"
      ]
     },
     "execution_count": 30,
     "metadata": {},
     "output_type": "execute_result"
    }
   ],
   "source": [
    "sk_lr.coef_"
   ]
  },
  {
   "cell_type": "code",
   "execution_count": 31,
   "metadata": {
    "collapsed": false
   },
   "outputs": [
    {
     "data": {
      "text/plain": [
       "<matplotlib.text.Text at 0x11063d9b0>"
      ]
     },
     "execution_count": 31,
     "metadata": {},
     "output_type": "execute_result"
    },
    {
     "data": {
      "image/png": "[encoded data removed]",
      "text/plain": [
       "<matplotlib.figure.Figure at 0x110d87fd0>"
      ]
     },
     "metadata": {},
     "output_type": "display_data"
    }
   ],
   "source": [
    "plt.plot(X_test, y_test, '.', color='green')\n",
    "plt.plot(X_test, sk_lr.predict(X_test), color='pink')\n",
    "plt.xlabel('entry level education')\n",
    "plt.ylabel('median annual income')"
   ]
  },
  {
   "cell_type": "code",
   "execution_count": 32,
   "metadata": {
    "collapsed": false
   },
   "outputs": [
    {
     "data": {
      "text/plain": [
       "SOC Code*                          object\n",
       "Occupational Title                 object\n",
       "Estimated Employment 2012**        object\n",
       "Projected Employment 2022          object\n",
       "Percent Change 2012-2022           object\n",
       "Annual Average Percent Change      object\n",
       "2014 First Quarter  Wages [1]      object\n",
       "Median Annual                      object\n",
       "Entry Level Education              object\n",
       "Work Experience                    object\n",
       "On-the-Job Training                object\n",
       "exp                               float64\n",
       "dtype: object"
      ]
     },
     "execution_count": 32,
     "metadata": {},
     "output_type": "execute_result"
    }
   ],
   "source": [
    "fast_occ.dtypes"
   ]
  },
  {
   "cell_type": "code",
   "execution_count": 33,
   "metadata": {
    "collapsed": false
   },
   "outputs": [],
   "source": [
    "fast_occ['Entry Level Education'] = fast_occ['Entry Level Education'].astype(int)"
   ]
  },
  {
   "cell_type": "code",
   "execution_count": 34,
   "metadata": {
    "collapsed": true
   },
   "outputs": [],
   "source": [
    "fast_occ['Median Annual'] = fast_occ['Median Annual'].astype(int)"
   ]
  },
  {
   "cell_type": "code",
   "execution_count": 73,
   "metadata": {
    "collapsed": false
   },
   "outputs": [
    {
     "data": {
      "text/plain": [
       "<seaborn.axisgrid.FacetGrid at 0x115401be0>"
      ]
     },
     "execution_count": 73,
     "metadata": {},
     "output_type": "execute_result"
    },
    {
     "data": {
      "image/png": "[encoded data removed]",
      "text/plain": [
       "<matplotlib.figure.Figure at 0x115401438>"
      ]
     },
     "metadata": {},
     "output_type": "display_data"
    }
   ],
   "source": [
    "sns.lmplot(x='Entry Level Education', y='Median Annual', hue='exp', data=fast_occ, x_estimator=np.mean) #, lowess=True)"
   ]
  },
  {
   "cell_type": "code",
   "execution_count": 152,
   "metadata": {
    "collapsed": false
   },
   "outputs": [
    {
     "data": {
      "text/plain": [
       "<matplotlib.axes._subplots.AxesSubplot at 0x1166172e8>"
      ]
     },
     "execution_count": 152,
     "metadata": {},
     "output_type": "execute_result"
    },
    {
     "data": {
      "image/png": "[encoded data removed]",
      "text/plain": [
       "<matplotlib.figure.Figure at 0x116ad3240>"
      ]
     },
     "metadata": {},
     "output_type": "display_data"
    }
   ],
   "source": [
    "sns.residplot(x='Entry Level Education', y='Median Annual', data=fast_occ)"
   ]
  },
  {
   "cell_type": "code",
   "execution_count": 122,
   "metadata": {
    "collapsed": false
   },
   "outputs": [
    {
     "data": {
      "text/html": [
       "<div>\n",
       "<table border=\"1\" class=\"dataframe\">\n",
       "  <thead>\n",
       "    <tr style=\"text-align: right;\">\n",
       "      <th></th>\n",
       "      <th>SOC Code*</th>\n",
       "      <th>Occupational Title</th>\n",
       "      <th>Estimated Employment 2012**</th>\n",
       "      <th>Projected Employment 2022</th>\n",
       "      <th>Percent Change 2012-2022</th>\n",
       "      <th>Annual Average Percent Change</th>\n",
       "      <th>2014 First Quarter  Wages [1]</th>\n",
       "      <th>Median Annual</th>\n",
       "      <th>Entry Level Education</th>\n",
       "      <th>Work Experience</th>\n",
       "      <th>On-the-Job Training</th>\n",
       "      <th>exp</th>\n",
       "    </tr>\n",
       "  </thead>\n",
       "  <tbody>\n",
       "    <tr>\n",
       "      <th>37</th>\n",
       "      <td>19-1021</td>\n",
       "      <td>Biochemists and Biophysicists</td>\n",
       "      <td>6300</td>\n",
       "      <td>8000</td>\n",
       "      <td>0.269841</td>\n",
       "      <td>0.0269841</td>\n",
       "      <td>44.96</td>\n",
       "      <td>93513</td>\n",
       "      <td>1</td>\n",
       "      <td>None</td>\n",
       "      <td>None</td>\n",
       "      <td>0</td>\n",
       "    </tr>\n",
       "  </tbody>\n",
       "</table>\n",
       "</div>"
      ],
      "text/plain": [
       "   SOC Code*             Occupational Title Estimated Employment 2012**  \\\n",
       "37   19-1021  Biochemists and Biophysicists                        6300   \n",
       "\n",
       "   Projected Employment 2022 Percent Change 2012-2022  \\\n",
       "37                      8000                 0.269841   \n",
       "\n",
       "   Annual Average Percent Change 2014 First Quarter  Wages [1]  Median Annual  \\\n",
       "37                     0.0269841                          44.96         93513   \n",
       "\n",
       "   Entry Level Education Work Experience On-the-Job Training  exp  \n",
       "37                     1            None                None    0  "
      ]
     },
     "execution_count": 122,
     "metadata": {},
     "output_type": "execute_result"
    }
   ],
   "source": [
    "fast_occ[fast_occ['Occupational Title']=='Biochemists and Biophysicists']"
   ]
  },
  {
   "cell_type": "code",
   "execution_count": 123,
   "metadata": {
    "collapsed": false
   },
   "outputs": [
    {
     "data": {
      "text/plain": [
       "2207500"
      ]
     },
     "execution_count": 123,
     "metadata": {},
     "output_type": "execute_result"
    }
   ],
   "source": [
    "fast_occ['Estimated Employment 2012**'].sum()"
   ]
  },
  {
   "cell_type": "code",
   "execution_count": 124,
   "metadata": {
    "collapsed": true
   },
   "outputs": [],
   "source": [
    "fast_occ['percent of total'] = fast_occ['Estimated Employment 2012**']/2207500"
   ]
  },
  {
   "cell_type": "code",
   "execution_count": 126,
   "metadata": {
    "collapsed": false
   },
   "outputs": [
    {
     "data": {
      "text/plain": [
       "<matplotlib.axes._subplots.AxesSubplot at 0x115de11d0>"
      ]
     },
     "execution_count": 126,
     "metadata": {},
     "output_type": "execute_result"
    },
    {
     "data": {
      "image/png": "[encoded data removed]",
      "text/plain": [
       "<matplotlib.figure.Figure at 0x115d28630>"
      ]
     },
     "metadata": {},
     "output_type": "display_data"
    }
   ],
   "source": [
    "fast_occ['percent of total'].plot(kind='hist')"
   ]
  },
  {
   "cell_type": "code",
   "execution_count": 127,
   "metadata": {
    "collapsed": true
   },
   "outputs": [],
   "source": [
    "popular_jobs = fast_occ[fast_occ['percent of total'] > 0.1]"
   ]
  },
  {
   "cell_type": "code",
   "execution_count": 128,
   "metadata": {
    "collapsed": false
   },
   "outputs": [
    {
     "data": {
      "text/plain": [
       "Combined Food Preparation and Serving Workers, Including Fast Food    1\n",
       "Personal Care Aides                                                   1\n",
       "Name: Occupational Title, dtype: int64"
      ]
     },
     "execution_count": 128,
     "metadata": {},
     "output_type": "execute_result"
    }
   ],
   "source": [
    "popular_jobs['Occupational Title'].value_counts()"
   ]
  },
  {
   "cell_type": "code",
   "execution_count": 41,
   "metadata": {
    "collapsed": true
   },
   "outputs": [],
   "source": [
    "from scipy.optimize import curve_fit"
   ]
  },
  {
   "cell_type": "code",
   "execution_count": 38,
   "metadata": {
    "collapsed": true
   },
   "outputs": [],
   "source": [
    "X_2 = fast_occ['Entry Level Education'].astype(float).values\n",
    "y_2 = fast_occ['Median Annual'].astype(float).values"
   ]
  },
  {
   "cell_type": "code",
   "execution_count": 50,
   "metadata": {
    "collapsed": true
   },
   "outputs": [],
   "source": [
    "def sigmoid(x, x0, k):\n",
    "    y = 1-1/(1 + np.exp(k*(x0-x)))\n",
    "    return y"
   ]
  },
  {
   "cell_type": "code",
   "execution_count": 59,
   "metadata": {
    "collapsed": true
   },
   "outputs": [],
   "source": [
    "def reverse_sigmoid(y, k):\n",
    "    x = np.log(y/(1-y)) #equivalent to ln\n",
    "    return x"
   ]
  },
  {
   "cell_type": "code",
   "execution_count": 46,
   "metadata": {
    "collapsed": false
   },
   "outputs": [
    {
     "data": {
      "text/plain": [
       "(50, 50)"
      ]
     },
     "execution_count": 46,
     "metadata": {},
     "output_type": "execute_result"
    }
   ],
   "source": [
    "len(X_2), len(y_2)"
   ]
  },
  {
   "cell_type": "code",
   "execution_count": 51,
   "metadata": {
    "collapsed": false
   },
   "outputs": [
    {
     "data": {
      "image/png": "[encoded data removed]",
      "text/plain": [
       "<matplotlib.figure.Figure at 0x11427e320>"
      ]
     },
     "metadata": {},
     "output_type": "display_data"
    }
   ],
   "source": [
    "xdata = np.array([0.0,   1.0,  3.0, 4.3, 7.0,   8.0,   8.5, 10.0, 12.0])\n",
    "ydata = np.array([0.01, 0.02, 0.04, 0.11, 0.43,  0.7, 0.89, 0.95, 0.99])\n",
    "\n",
    "popt, pcov = curve_fit(sigmoid, xdata, ydata)\n",
    "\n",
    "x = np.linspace(-1, 15, 50)\n",
    "y = sigmoid(x, *popt)\n",
    "\n",
    "pylab.plot(xdata, ydata, 'o', label='data')\n",
    "pylab.plot(x,y, label='fit')\n",
    "pylab.ylim(0, 1.05)\n",
    "pylab.legend(loc='best')\n",
    "pylab.show()"
   ]
  },
  {
   "cell_type": "code",
   "execution_count": null,
   "metadata": {
    "collapsed": true
   },
   "outputs": [],
   "source": []
  }
 ],
 "metadata": {
  "kernelspec": {
   "display_name": "Python 3",
   "language": "python",
   "name": "python3"
  },
  "language_info": {
   "codemirror_mode": {
    "name": "ipython",
    "version": 3
   },
   "file_extension": ".py",
   "mimetype": "text/x-python",
   "name": "python",
   "nbconvert_exporter": "python",
   "pygments_lexer": "ipython3",
   "version": "3.5.1"
  }
 },
 "nbformat": 4,
 "nbformat_minor": 0
}
