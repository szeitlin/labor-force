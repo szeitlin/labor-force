{
 "cells": [
  {
   "cell_type": "code",
   "execution_count": 29,
   "metadata": {
    "collapsed": true
   },
   "outputs": [],
   "source": [
    "%matplotlib inline\n",
    "\n",
    "import pandas as pd\n",
    "import numpy as np\n",
    "import seaborn as sns\n",
    "import matplotlib\n"
   ]
  },
  {
   "cell_type": "code",
   "execution_count": 3,
   "metadata": {
    "collapsed": false
   },
   "outputs": [],
   "source": [
    "#following along with this: http://blog.districtdatalabs.com/building-a-classifier-from-census-data#disqus_thread\n",
    "#and making a lot of changes as I go, b/c the instructions don't actually work\n",
    "\n",
    "#they say this came from the .names file, but I don't see it in there\n",
    "\n",
    "names = [\n",
    "    'age',\n",
    "    'workclass',\n",
    "    'fnlwgt',         #<--- wtf does this stand for?\n",
    "    'education',\n",
    "    'education-num',\n",
    "    'marital-status',\n",
    "    'occupation',\n",
    "    'relationship',\n",
    "    'race',\n",
    "    'sex',\n",
    "    'capital-gain',\n",
    "    'capital-loss',\n",
    "    'hours-per-week',\n",
    "    'native-country',\n",
    "    'income',\n",
    "]\n"
   ]
  },
  {
   "cell_type": "code",
   "execution_count": 25,
   "metadata": {
    "collapsed": false
   },
   "outputs": [
    {
     "data": {
      "text/plain": [
       "15"
      ]
     },
     "execution_count": 25,
     "metadata": {},
     "output_type": "execute_result"
    }
   ],
   "source": [
    "len(names)"
   ]
  },
  {
   "cell_type": "code",
   "execution_count": 71,
   "metadata": {
    "collapsed": false
   },
   "outputs": [],
   "source": [
    "#pandas is not working, using reference to jog my memory on how to do this manually: \n",
    "#http://newcoder.io/dataviz/part-1/\n",
    "\n",
    "import csv\n",
    "\n",
    "with open('adult.data', newline='') as f:\n",
    "    parsed_data = []    \n",
    "    csv_reader = csv.reader(f)\n",
    "    for row in csv_reader:\n",
    "        csv_data = dict(zip(names, row))\n",
    "        parsed_data.append(csv_data)\n",
    "        "
   ]
  },
  {
   "cell_type": "code",
   "execution_count": 72,
   "metadata": {
    "collapsed": false
   },
   "outputs": [
    {
     "data": {
      "text/plain": [
       "[{'age': \"b'39\",\n",
       "  'capital-gain': ' 2174',\n",
       "  'capital-loss': ' 0',\n",
       "  'education': ' Bachelors',\n",
       "  'education-num': ' 13',\n",
       "  'fnlwgt': ' 77516',\n",
       "  'hours-per-week': ' 40',\n",
       "  'income': ' <=50K\\\\n50',\n",
       "  'marital-status': ' Never-married',\n",
       "  'native-country': ' United-States',\n",
       "  'occupation': ' Adm-clerical',\n",
       "  'race': ' White',\n",
       "  'relationship': ' Not-in-family',\n",
       "  'sex': ' Male',\n",
       "  'workclass': ' State-gov'}]"
      ]
     },
     "execution_count": 72,
     "metadata": {},
     "output_type": "execute_result"
    }
   ],
   "source": [
    "parsed_data #this won't work b/c it can't iterate beyond the first row"
   ]
  },
  {
   "cell_type": "code",
   "execution_count": 62,
   "metadata": {
    "collapsed": false
   },
   "outputs": [
    {
     "data": {
      "text/plain": [
       "30390.333333333332"
      ]
     },
     "execution_count": 62,
     "metadata": {},
     "output_type": "execute_result"
    }
   ],
   "source": [
    "value_list = open('adult.data').read().split()\n",
    "rows = []\n",
    "len(value_list)/15"
   ]
  },
  {
   "cell_type": "code",
   "execution_count": 69,
   "metadata": {
    "collapsed": false
   },
   "outputs": [
    {
     "data": {
      "text/plain": [
       "[\"b'39,\",\n",
       " 'State-gov,',\n",
       " '77516,',\n",
       " 'Bachelors,',\n",
       " '13,',\n",
       " 'Never-married,',\n",
       " 'Adm-clerical,',\n",
       " 'Not-in-family,',\n",
       " 'White,',\n",
       " 'Male,',\n",
       " '2174,',\n",
       " '0,',\n",
       " '40,',\n",
       " 'United-States,',\n",
       " '<=50K\\\\n50,']"
      ]
     },
     "execution_count": 69,
     "metadata": {},
     "output_type": "execute_result"
    }
   ],
   "source": [
    "value_list[0:15]"
   ]
  },
  {
   "cell_type": "code",
   "execution_count": 70,
   "metadata": {
    "collapsed": false,
    "scrolled": true
   },
   "outputs": [
    {
     "data": {
      "text/plain": [
       "['Self-emp-not-inc,',\n",
       " '83311,',\n",
       " 'Bachelors,',\n",
       " '13,',\n",
       " 'Married-civ-spouse,',\n",
       " 'Exec-managerial,',\n",
       " 'Husband,',\n",
       " 'White,',\n",
       " 'Male,',\n",
       " '0,',\n",
       " '0,',\n",
       " '13,',\n",
       " 'United-States,',\n",
       " '<=50K\\\\n38,',\n",
       " 'Private,']"
      ]
     },
     "execution_count": 70,
     "metadata": {},
     "output_type": "execute_result"
    }
   ],
   "source": [
    "value_list[15:30]"
   ]
  },
  {
   "cell_type": "code",
   "execution_count": null,
   "metadata": {
    "collapsed": true
   },
   "outputs": [],
   "source": [
    "for i in range(0, len(value_list), 15):\n",
    "    rows.append(value_list[])"
   ]
  },
  {
   "cell_type": "code",
   "execution_count": 56,
   "metadata": {
    "collapsed": false
   },
   "outputs": [],
   "source": [
    "#try getting the lengths in case it really is fwf? \n",
    "colspecs = []\n",
    "for item in one:\n",
    "    colspecs.append(len(item[1]))"
   ]
  },
  {
   "cell_type": "code",
   "execution_count": 63,
   "metadata": {
    "collapsed": false
   },
   "outputs": [],
   "source": [
    "#this didn't work either\n",
    "#pd.read_fwf('adult.data', delimiter=',') # widths=colspecs, names=names, usecols=range(15))"
   ]
  },
  {
   "cell_type": "code",
   "execution_count": null,
   "metadata": {
    "collapsed": true
   },
   "outputs": [],
   "source": []
  }
 ],
 "metadata": {
  "kernelspec": {
   "display_name": "Python 3",
   "language": "python",
   "name": "python3"
  },
  "language_info": {
   "codemirror_mode": {
    "name": "ipython",
    "version": 3
   },
   "file_extension": ".py",
   "mimetype": "text/x-python",
   "name": "python",
   "nbconvert_exporter": "python",
   "pygments_lexer": "ipython3",
   "version": "3.5.1"
  }
 },
 "nbformat": 4,
 "nbformat_minor": 0
}
